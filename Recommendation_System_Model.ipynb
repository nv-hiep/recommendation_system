{
  "nbformat": 4,
  "nbformat_minor": 0,
  "metadata": {
    "colab": {
      "name": "Recommendation_System_Model.ipynb",
      "provenance": [],
      "collapsed_sections": [],
      "authorship_tag": "ABX9TyPJl2Y/ABikjSsgpUky7HoC",
      "include_colab_link": true
    },
    "kernelspec": {
      "name": "python3",
      "display_name": "Python 3"
    },
    "language_info": {
      "name": "python"
    },
    "accelerator": "GPU"
  },
  "cells": [
    {
      "cell_type": "markdown",
      "metadata": {
        "id": "view-in-github",
        "colab_type": "text"
      },
      "source": [
        "<a href=\"https://colab.research.google.com/github/nv-hiep/Hoola_RecommendationSystem/blob/main/Recommendation_System_Model.ipynb\" target=\"_parent\"><img src=\"https://colab.research.google.com/assets/colab-badge.svg\" alt=\"Open In Colab\"/></a>"
      ]
    },
    {
      "cell_type": "markdown",
      "metadata": {
        "id": "v9UA7F__jw4M"
      },
      "source": [
        "A recommendation system with Cosine Similarity Matrix"
      ]
    },
    {
      "cell_type": "markdown",
      "metadata": {
        "id": "z7slQ9Y9f7Sr"
      },
      "source": [
        "# 1. Libraries"
      ]
    },
    {
      "cell_type": "code",
      "metadata": {
        "id": "pLXcM68QdTTR"
      },
      "source": [
        "# Python ≥3.5 is required\n",
        "import sys\n",
        "assert sys.version_info >= (3, 5)\n",
        "\n",
        "# Scikit-Learn ≥0.20 is required\n",
        "import sklearn\n",
        "assert sklearn.__version__ >= '0.20'\n",
        "\n",
        "try:\n",
        "    # %tensorflow_version only exists in Colab.\n",
        "    %tensorflow_version 2.x\n",
        "    IS_COLAB = True\n",
        "except Exception:\n",
        "    IS_COLAB = False\n",
        "\n",
        "# TensorFlow ≥2.0 is required\n",
        "import tensorflow as tf\n",
        "from tensorflow import keras\n",
        "assert tf.__version__ >= '2.0'\n",
        "\n",
        "if not tf.config.list_physical_devices('GPU'):\n",
        "    print('No GPU was detected. LSTMs and CNNs can be very slow without a GPU.')\n",
        "    if IS_COLAB:\n",
        "        print('Go to Runtime > Change runtime and select a GPU hardware accelerator.')\n",
        "\n",
        "# Common imports\n",
        "import os\n",
        "import shutil\n",
        "import itertools\n",
        "import glob\n",
        "import numpy as np\n",
        "import matplotlib.image as mpimg\n",
        "import pandas as pd\n",
        "\n",
        "import string\n",
        "import pickle\n",
        "\n",
        "from tqdm import tqdm\n",
        "from time import time\n",
        "from PIL import Image\n",
        "\n",
        "\n",
        "# to make this notebook's output stable across runs\n",
        "np.random.seed(42)\n",
        "tf.random.set_seed(42)\n",
        "\n",
        "# To plot pretty figures\n",
        "%matplotlib inline\n",
        "import matplotlib as mpl\n",
        "import matplotlib.pyplot as plt\n",
        "# mpl.rc('axes', labelsize=14)\n",
        "# mpl.rc('xtick', labelsize=12)\n",
        "# mpl.rc('ytick', labelsize=12)"
      ],
      "execution_count": null,
      "outputs": []
    },
    {
      "cell_type": "code",
      "metadata": {
        "id": "N8s7lVGJjQcU"
      },
      "source": [
        "# For text mining\n",
        "from sklearn.feature_extraction.text import CountVectorizer,TfidfVectorizer\n",
        "from sklearn.metrics.pairwise import cosine_similarity,linear_kernel"
      ],
      "execution_count": null,
      "outputs": []
    },
    {
      "cell_type": "markdown",
      "metadata": {
        "id": "BVhoD8seDk4x"
      },
      "source": [
        "# 2. Connect to Google Drive"
      ]
    },
    {
      "cell_type": "code",
      "metadata": {
        "id": "srBiJiFEaKl1",
        "colab": {
          "base_uri": "https://localhost:8080/"
        },
        "outputId": "105ceefb-e604-471a-958e-97c697f718aa"
      },
      "source": [
        "# Check if NVIDIA GPU is enabled\n",
        "!nvidia-smi"
      ],
      "execution_count": null,
      "outputs": [
        {
          "output_type": "stream",
          "text": [
            "Wed Aug 25 18:17:27 2021       \n",
            "+-----------------------------------------------------------------------------+\n",
            "| NVIDIA-SMI 470.57.02    Driver Version: 460.32.03    CUDA Version: 11.2     |\n",
            "|-------------------------------+----------------------+----------------------+\n",
            "| GPU  Name        Persistence-M| Bus-Id        Disp.A | Volatile Uncorr. ECC |\n",
            "| Fan  Temp  Perf  Pwr:Usage/Cap|         Memory-Usage | GPU-Util  Compute M. |\n",
            "|                               |                      |               MIG M. |\n",
            "|===============================+======================+======================|\n",
            "|   0  Tesla K80           Off  | 00000000:00:04.0 Off |                    0 |\n",
            "| N/A   33C    P8    28W / 149W |      3MiB / 11441MiB |      0%      Default |\n",
            "|                               |                      |                  N/A |\n",
            "+-------------------------------+----------------------+----------------------+\n",
            "                                                                               \n",
            "+-----------------------------------------------------------------------------+\n",
            "| Processes:                                                                  |\n",
            "|  GPU   GI   CI        PID   Type   Process name                  GPU Memory |\n",
            "|        ID   ID                                                   Usage      |\n",
            "|=============================================================================|\n",
            "|  No running processes found                                                 |\n",
            "+-----------------------------------------------------------------------------+\n"
          ],
          "name": "stdout"
        }
      ]
    },
    {
      "cell_type": "code",
      "metadata": {
        "id": "PjjcQSpya_FR"
      },
      "source": [
        "# from google.colab import drive\n",
        "# drive.mount('/content/gdrive')\n",
        "# !ls"
      ],
      "execution_count": null,
      "outputs": []
    },
    {
      "cell_type": "code",
      "metadata": {
        "id": "iYM4wmy-cFlK"
      },
      "source": [
        "# %cd /content/gdrive/My Drive/\n",
        "# !ls"
      ],
      "execution_count": null,
      "outputs": []
    },
    {
      "cell_type": "code",
      "metadata": {
        "colab": {
          "base_uri": "https://localhost:8080/"
        },
        "id": "oljDNo3zFO-z",
        "outputId": "8948a78f-f085-4e24-d822-7dc3cb0e4e78"
      },
      "source": [
        "! pwd"
      ],
      "execution_count": null,
      "outputs": [
        {
          "output_type": "stream",
          "text": [
            "/content\n"
          ],
          "name": "stdout"
        }
      ]
    },
    {
      "cell_type": "markdown",
      "metadata": {
        "id": "o86-F-QZFqjU"
      },
      "source": [
        "## 3. Paths to Data Directories"
      ]
    },
    {
      "cell_type": "code",
      "metadata": {
        "id": "ynr1SMD4FOSs"
      },
      "source": [
        "DATA_PATH = '/content/sample_data/'"
      ],
      "execution_count": null,
      "outputs": []
    },
    {
      "cell_type": "markdown",
      "metadata": {
        "id": "eMEmhU7eivAK"
      },
      "source": [
        "# 4. Read data"
      ]
    },
    {
      "cell_type": "code",
      "metadata": {
        "colab": {
          "base_uri": "https://localhost:8080/",
          "height": 397
        },
        "id": "02djzwBtisYg",
        "outputId": "4e8e969e-f31b-4d19-cd5d-296646529e0e"
      },
      "source": [
        "data_file = os.path.join(DATA_PATH, \"courses_cleaned_data.csv\")\n",
        "df = pd.read_csv(data_file)\n",
        "df.head(4)"
      ],
      "execution_count": null,
      "outputs": [
        {
          "output_type": "execute_result",
          "data": {
            "text/html": [
              "<div>\n",
              "<style scoped>\n",
              "    .dataframe tbody tr th:only-of-type {\n",
              "        vertical-align: middle;\n",
              "    }\n",
              "\n",
              "    .dataframe tbody tr th {\n",
              "        vertical-align: top;\n",
              "    }\n",
              "\n",
              "    .dataframe thead th {\n",
              "        text-align: right;\n",
              "    }\n",
              "</style>\n",
              "<table border=\"1\" class=\"dataframe\">\n",
              "  <thead>\n",
              "    <tr style=\"text-align: right;\">\n",
              "      <th></th>\n",
              "      <th>course_id</th>\n",
              "      <th>course_title</th>\n",
              "      <th>url</th>\n",
              "      <th>is_paid</th>\n",
              "      <th>price</th>\n",
              "      <th>num_subscribers</th>\n",
              "      <th>num_reviews</th>\n",
              "      <th>num_lectures</th>\n",
              "      <th>level</th>\n",
              "      <th>duration</th>\n",
              "      <th>duration_unit</th>\n",
              "      <th>published_timestamp</th>\n",
              "      <th>subject</th>\n",
              "      <th>year</th>\n",
              "      <th>cleaned_title</th>\n",
              "    </tr>\n",
              "  </thead>\n",
              "  <tbody>\n",
              "    <tr>\n",
              "      <th>0</th>\n",
              "      <td>1070968</td>\n",
              "      <td>Ultimate Investment Banking Course</td>\n",
              "      <td>https://www.udemy.com/ultimate-investment-bank...</td>\n",
              "      <td>True</td>\n",
              "      <td>200</td>\n",
              "      <td>2147</td>\n",
              "      <td>23</td>\n",
              "      <td>51</td>\n",
              "      <td>All Levels</td>\n",
              "      <td>90</td>\n",
              "      <td>mins</td>\n",
              "      <td>2017-01-18T20:58:58Z</td>\n",
              "      <td>Business Finance</td>\n",
              "      <td>2017</td>\n",
              "      <td>ultimate investment banking course</td>\n",
              "    </tr>\n",
              "    <tr>\n",
              "      <th>1</th>\n",
              "      <td>1113822</td>\n",
              "      <td>Complete GST Course &amp; Certification - Grow You...</td>\n",
              "      <td>https://www.udemy.com/goods-and-services-tax/</td>\n",
              "      <td>True</td>\n",
              "      <td>75</td>\n",
              "      <td>2792</td>\n",
              "      <td>923</td>\n",
              "      <td>274</td>\n",
              "      <td>All Levels</td>\n",
              "      <td>2340</td>\n",
              "      <td>mins</td>\n",
              "      <td>2017-03-09T16:34:20Z</td>\n",
              "      <td>Business Finance</td>\n",
              "      <td>2017</td>\n",
              "      <td>complete gst course  certification  grow  ca p...</td>\n",
              "    </tr>\n",
              "    <tr>\n",
              "      <th>2</th>\n",
              "      <td>1006314</td>\n",
              "      <td>Financial Modeling for Business Analysts and C...</td>\n",
              "      <td>https://www.udemy.com/financial-modeling-for-b...</td>\n",
              "      <td>True</td>\n",
              "      <td>45</td>\n",
              "      <td>2174</td>\n",
              "      <td>74</td>\n",
              "      <td>51</td>\n",
              "      <td>Intermediate Level</td>\n",
              "      <td>150</td>\n",
              "      <td>mins</td>\n",
              "      <td>2016-12-19T19:26:30Z</td>\n",
              "      <td>Business Finance</td>\n",
              "      <td>2016</td>\n",
              "      <td>financial modeling  business analysts  consult...</td>\n",
              "    </tr>\n",
              "    <tr>\n",
              "      <th>3</th>\n",
              "      <td>1210588</td>\n",
              "      <td>Beginner to Pro - Financial Analysis in Excel ...</td>\n",
              "      <td>https://www.udemy.com/complete-excel-finance-c...</td>\n",
              "      <td>True</td>\n",
              "      <td>95</td>\n",
              "      <td>2451</td>\n",
              "      <td>11</td>\n",
              "      <td>36</td>\n",
              "      <td>All Levels</td>\n",
              "      <td>180</td>\n",
              "      <td>mins</td>\n",
              "      <td>2017-05-30T20:07:24Z</td>\n",
              "      <td>Business Finance</td>\n",
              "      <td>2017</td>\n",
              "      <td>beginner  pro  financial analysis  excel</td>\n",
              "    </tr>\n",
              "  </tbody>\n",
              "</table>\n",
              "</div>"
            ],
            "text/plain": [
              "   course_id  ...                                      cleaned_title\n",
              "0    1070968  ...                 ultimate investment banking course\n",
              "1    1113822  ...  complete gst course  certification  grow  ca p...\n",
              "2    1006314  ...  financial modeling  business analysts  consult...\n",
              "3    1210588  ...          beginner  pro  financial analysis  excel \n",
              "\n",
              "[4 rows x 15 columns]"
            ]
          },
          "metadata": {},
          "execution_count": 10
        }
      ]
    },
    {
      "cell_type": "code",
      "metadata": {
        "colab": {
          "base_uri": "https://localhost:8080/"
        },
        "id": "WwbRC30TjptI",
        "outputId": "ede7387e-eeee-4d65-de52-ad3e8df119a7"
      },
      "source": [
        "df.columns"
      ],
      "execution_count": null,
      "outputs": [
        {
          "output_type": "execute_result",
          "data": {
            "text/plain": [
              "Index(['course_id', 'course_title', 'url', 'is_paid', 'price',\n",
              "       'num_subscribers', 'num_reviews', 'num_lectures', 'level', 'duration',\n",
              "       'duration_unit', 'published_timestamp', 'subject', 'year',\n",
              "       'cleaned_title'],\n",
              "      dtype='object')"
            ]
          },
          "metadata": {},
          "execution_count": 12
        }
      ]
    },
    {
      "cell_type": "code",
      "metadata": {
        "colab": {
          "base_uri": "https://localhost:8080/"
        },
        "id": "OphSphW6jtLb",
        "outputId": "b77caf78-fc66-4704-abf0-cb1a5a7558f5"
      },
      "source": [
        "df.shape"
      ],
      "execution_count": null,
      "outputs": [
        {
          "output_type": "execute_result",
          "data": {
            "text/plain": [
              "(3682, 15)"
            ]
          },
          "metadata": {},
          "execution_count": 13
        }
      ]
    },
    {
      "cell_type": "markdown",
      "metadata": {
        "id": "VDbO1jTyjhC9"
      },
      "source": [
        "# 5. Text cosine similarity"
      ]
    },
    {
      "cell_type": "code",
      "metadata": {
        "id": "4YGdBfU7jjqg"
      },
      "source": [
        "# Vectorize the titles\n",
        "count_vect = CountVectorizer()\n",
        "count_vect_matrix = count_vect.fit_transform(df['cleaned_title'])"
      ],
      "execution_count": null,
      "outputs": []
    },
    {
      "cell_type": "code",
      "metadata": {
        "colab": {
          "base_uri": "https://localhost:8080/"
        },
        "id": "kxVQf-bQkHoW",
        "outputId": "2c70bc4d-b683-4f16-affe-289c4c885b45"
      },
      "source": [
        "count_vect_matrix.shape"
      ],
      "execution_count": null,
      "outputs": [
        {
          "output_type": "execute_result",
          "data": {
            "text/plain": [
              "(3682, 3556)"
            ]
          },
          "metadata": {},
          "execution_count": 15
        }
      ]
    },
    {
      "cell_type": "code",
      "metadata": {
        "colab": {
          "base_uri": "https://localhost:8080/"
        },
        "id": "RFHgHGwRkMRO",
        "outputId": "8f220eec-1514-4a36-e050-5788381ec9e6"
      },
      "source": [
        "count_vect_matrix"
      ],
      "execution_count": null,
      "outputs": [
        {
          "output_type": "execute_result",
          "data": {
            "text/plain": [
              "<3682x3556 sparse matrix of type '<class 'numpy.int64'>'\n",
              "\twith 18578 stored elements in Compressed Sparse Row format>"
            ]
          },
          "metadata": {},
          "execution_count": 16
        }
      ]
    },
    {
      "cell_type": "code",
      "metadata": {
        "colab": {
          "base_uri": "https://localhost:8080/"
        },
        "id": "kQDrTThbkX26",
        "outputId": "8a2fe1d2-bcf2-467f-993f-7f320de5c796"
      },
      "source": [
        "# Calc. Cosine Similarity Matrix\n",
        "cosine_sim_matrix = cosine_similarity(count_vect_matrix)\n",
        "print(\"Shape of cosine_sim_matrix: \", cosine_sim_matrix.shape)\n",
        "cosine_sim_matrix"
      ],
      "execution_count": null,
      "outputs": [
        {
          "output_type": "stream",
          "text": [
            "Shape of cosine_sim_matrix:  (3682, 3682)\n"
          ],
          "name": "stdout"
        },
        {
          "output_type": "execute_result",
          "data": {
            "text/plain": [
              "array([[1.        , 0.18898224, 0.        , ..., 0.        , 0.        ,\n",
              "        0.        ],\n",
              "       [0.18898224, 1.        , 0.        , ..., 0.        , 0.        ,\n",
              "        0.        ],\n",
              "       [0.        , 0.        , 1.        , ..., 0.        , 0.        ,\n",
              "        0.        ],\n",
              "       ...,\n",
              "       [0.        , 0.        , 0.        , ..., 1.        , 0.        ,\n",
              "        0.37796447],\n",
              "       [0.        , 0.        , 0.        , ..., 0.        , 1.        ,\n",
              "        0.        ],\n",
              "       [0.        , 0.        , 0.        , ..., 0.37796447, 0.        ,\n",
              "        1.        ]])"
            ]
          },
          "metadata": {},
          "execution_count": 18
        }
      ]
    },
    {
      "cell_type": "markdown",
      "metadata": {
        "id": "nIBvI8W-tTpk"
      },
      "source": [
        "# 6. Case of the first course (row_id = 1)"
      ]
    },
    {
      "cell_type": "code",
      "metadata": {
        "colab": {
          "base_uri": "https://localhost:8080/"
        },
        "id": "wgDQ9Ajuk58G",
        "outputId": "79704e4c-f363-447f-9691-f1b38fd730cb"
      },
      "source": [
        "# Check the Cosine Similarity Score of the first title\n",
        "row_id = 0\n",
        "df.iloc[row_id]"
      ],
      "execution_count": null,
      "outputs": [
        {
          "output_type": "execute_result",
          "data": {
            "text/plain": [
              "course_id                                                        1070968\n",
              "course_title                          Ultimate Investment Banking Course\n",
              "url                    https://www.udemy.com/ultimate-investment-bank...\n",
              "is_paid                                                             True\n",
              "price                                                                200\n",
              "num_subscribers                                                     2147\n",
              "num_reviews                                                           23\n",
              "num_lectures                                                          51\n",
              "level                                                         All Levels\n",
              "duration                                                              90\n",
              "duration_unit                                                       mins\n",
              "published_timestamp                                 2017-01-18T20:58:58Z\n",
              "subject                                                 Business Finance\n",
              "year                                                                2017\n",
              "cleaned_title                         ultimate investment banking course\n",
              "Name: 0, dtype: object"
            ]
          },
          "metadata": {},
          "execution_count": 20
        }
      ]
    },
    {
      "cell_type": "code",
      "metadata": {
        "colab": {
          "base_uri": "https://localhost:8080/",
          "height": 134
        },
        "id": "VC9Uqc5OlK-d",
        "outputId": "bfc1132e-842c-42fc-ac06-31d290879dbd"
      },
      "source": [
        "df.head(1)"
      ],
      "execution_count": null,
      "outputs": [
        {
          "output_type": "execute_result",
          "data": {
            "text/html": [
              "<div>\n",
              "<style scoped>\n",
              "    .dataframe tbody tr th:only-of-type {\n",
              "        vertical-align: middle;\n",
              "    }\n",
              "\n",
              "    .dataframe tbody tr th {\n",
              "        vertical-align: top;\n",
              "    }\n",
              "\n",
              "    .dataframe thead th {\n",
              "        text-align: right;\n",
              "    }\n",
              "</style>\n",
              "<table border=\"1\" class=\"dataframe\">\n",
              "  <thead>\n",
              "    <tr style=\"text-align: right;\">\n",
              "      <th></th>\n",
              "      <th>course_id</th>\n",
              "      <th>course_title</th>\n",
              "      <th>url</th>\n",
              "      <th>is_paid</th>\n",
              "      <th>price</th>\n",
              "      <th>num_subscribers</th>\n",
              "      <th>num_reviews</th>\n",
              "      <th>num_lectures</th>\n",
              "      <th>level</th>\n",
              "      <th>duration</th>\n",
              "      <th>duration_unit</th>\n",
              "      <th>published_timestamp</th>\n",
              "      <th>subject</th>\n",
              "      <th>year</th>\n",
              "      <th>cleaned_title</th>\n",
              "    </tr>\n",
              "  </thead>\n",
              "  <tbody>\n",
              "    <tr>\n",
              "      <th>0</th>\n",
              "      <td>1070968</td>\n",
              "      <td>Ultimate Investment Banking Course</td>\n",
              "      <td>https://www.udemy.com/ultimate-investment-bank...</td>\n",
              "      <td>True</td>\n",
              "      <td>200</td>\n",
              "      <td>2147</td>\n",
              "      <td>23</td>\n",
              "      <td>51</td>\n",
              "      <td>All Levels</td>\n",
              "      <td>90</td>\n",
              "      <td>mins</td>\n",
              "      <td>2017-01-18T20:58:58Z</td>\n",
              "      <td>Business Finance</td>\n",
              "      <td>2017</td>\n",
              "      <td>ultimate investment banking course</td>\n",
              "    </tr>\n",
              "  </tbody>\n",
              "</table>\n",
              "</div>"
            ],
            "text/plain": [
              "   course_id  ...                       cleaned_title\n",
              "0    1070968  ...  ultimate investment banking course\n",
              "\n",
              "[1 rows x 15 columns]"
            ]
          },
          "metadata": {},
          "execution_count": 21
        }
      ]
    },
    {
      "cell_type": "code",
      "metadata": {
        "colab": {
          "base_uri": "https://localhost:8080/"
        },
        "id": "bwJk93FPlPiU",
        "outputId": "3e488018-d1c1-4001-8f9c-4beaeb861076"
      },
      "source": [
        "cosine_similarity_scores = cosine_sim_matrix[row_id]\n",
        "cosine_similarity_scores"
      ],
      "execution_count": null,
      "outputs": [
        {
          "output_type": "execute_result",
          "data": {
            "text/plain": [
              "array([1.        , 0.18898224, 0.        , ..., 0.        , 0.        ,\n",
              "       0.        ])"
            ]
          },
          "metadata": {},
          "execution_count": 32
        }
      ]
    },
    {
      "cell_type": "markdown",
      "metadata": {
        "id": "6B7D-nVulUVs"
      },
      "source": [
        "The first element of cosine_sim_matrix[row_id = 0] is 1, because the 1st title is being compared with itself."
      ]
    },
    {
      "cell_type": "code",
      "metadata": {
        "colab": {
          "base_uri": "https://localhost:8080/"
        },
        "id": "01JrBfWum2hQ",
        "outputId": "dd086536-c423-4cf8-c00c-3c026b2ce2dd"
      },
      "source": [
        "# To list and add the indices\n",
        "cosine_similarity_scores = list(enumerate(cosine_similarity_scores))\n",
        "cosine_similarity_scores[:5]"
      ],
      "execution_count": null,
      "outputs": [
        {
          "output_type": "execute_result",
          "data": {
            "text/plain": [
              "[(0, 1.0), (1, 0.1889822365046136), (2, 0.0), (3, 0.0), (4, 0.0)]"
            ]
          },
          "metadata": {},
          "execution_count": 33
        }
      ]
    },
    {
      "cell_type": "code",
      "metadata": {
        "colab": {
          "base_uri": "https://localhost:8080/"
        },
        "id": "FAfwoguznQbw",
        "outputId": "d7d8c22a-6ec9-499a-dd87-369f2ad804f1"
      },
      "source": [
        "# Sort the list and find the most similar courses\n",
        "sorted_scores = sorted(cosine_similarity_scores, key=lambda x:x[1], reverse=True)\n",
        "\n",
        "# Remove the first element, because it is being compared to itself, -> score = 1\n",
        "sorted_scores.pop(0)\n",
        "sorted_scores[:10]"
      ],
      "execution_count": null,
      "outputs": [
        {
          "output_type": "execute_result",
          "data": {
            "text/plain": [
              "[(39, 0.75),\n",
              " (3478, 0.5773502691896258),\n",
              " (242, 0.5),\n",
              " (419, 0.5),\n",
              " (2718, 0.5),\n",
              " (2806, 0.5),\n",
              " (659, 0.4472135954999579),\n",
              " (1072, 0.4472135954999579),\n",
              " (1214, 0.4472135954999579),\n",
              " (2647, 0.4472135954999579)]"
            ]
          },
          "metadata": {},
          "execution_count": 34
        }
      ]
    },
    {
      "cell_type": "code",
      "metadata": {
        "colab": {
          "base_uri": "https://localhost:8080/"
        },
        "id": "w4h10zRwo-dR",
        "outputId": "f64e0ad3-6e6a-4ffe-a146-61c2dc941c51"
      },
      "source": [
        "# Courses Indices (in the cosine_similarity_scores)\n",
        "other_course_indices = [x[0] for x in sorted_scores]\n",
        "\n",
        "print(\"Title of the 1st course: \", df['course_title'][row_id])\n",
        "print()\n",
        "print(\"Total number of course titles N = \", df.shape[0])\n",
        "print(\"Length of the other_course_indices = (N - 1): \", len(other_course_indices))\n",
        "\n",
        "print()\n",
        "print(\"Id of 05 most similar courses: \", other_course_indices[:5])\n",
        "\n",
        "print()\n",
        "print(\"Titles of the 05 most similar courses: \")\n",
        "print(df['course_title'].iloc[other_course_indices[:5]])"
      ],
      "execution_count": null,
      "outputs": [
        {
          "output_type": "stream",
          "text": [
            "Title of the 1st course:  Ultimate Investment Banking Course\n",
            "\n",
            "Total number of course titles N =  3682\n",
            "Length of the other_course_indices = (N - 1):  3681\n",
            "\n",
            "Id of 05 most similar courses:  [39, 3478, 242, 419, 2718]\n",
            "\n",
            "Titles of the 05 most similar courses: \n",
            "39      The Complete Investment Banking Course 2017\n",
            "3478                     The Ultimate jQuery Course\n",
            "242      Advanced Accounting for Investment Banking\n",
            "419       The Investment Banking Recruitment Series\n",
            "2718            The Ultimate Web Development Course\n",
            "Name: course_title, dtype: object\n"
          ],
          "name": "stdout"
        }
      ]
    },
    {
      "cell_type": "code",
      "metadata": {
        "id": "oy2vVISIrkRB"
      },
      "source": [
        "recommended_courses = df['course_title'].iloc[other_course_indices]\n",
        "recommended_course_scores = [x[1] for x in sorted_scores]"
      ],
      "execution_count": null,
      "outputs": []
    },
    {
      "cell_type": "code",
      "metadata": {
        "colab": {
          "base_uri": "https://localhost:8080/",
          "height": 419
        },
        "id": "oB5kffLWr0Zq",
        "outputId": "ea2f64f9-919b-476c-b3ec-387dd711beb3"
      },
      "source": [
        "recommendation_df = pd.DataFrame(\n",
        "    {\n",
        "        \"course_title\" : recommended_courses,\n",
        "        \"cosine_similarity_scores\" : recommended_course_scores\n",
        "     }\n",
        "     )\n",
        "recommendation_df"
      ],
      "execution_count": null,
      "outputs": [
        {
          "output_type": "execute_result",
          "data": {
            "text/html": [
              "<div>\n",
              "<style scoped>\n",
              "    .dataframe tbody tr th:only-of-type {\n",
              "        vertical-align: middle;\n",
              "    }\n",
              "\n",
              "    .dataframe tbody tr th {\n",
              "        vertical-align: top;\n",
              "    }\n",
              "\n",
              "    .dataframe thead th {\n",
              "        text-align: right;\n",
              "    }\n",
              "</style>\n",
              "<table border=\"1\" class=\"dataframe\">\n",
              "  <thead>\n",
              "    <tr style=\"text-align: right;\">\n",
              "      <th></th>\n",
              "      <th>course_title</th>\n",
              "      <th>cosine_similarity_scores</th>\n",
              "    </tr>\n",
              "  </thead>\n",
              "  <tbody>\n",
              "    <tr>\n",
              "      <th>39</th>\n",
              "      <td>The Complete Investment Banking Course 2017</td>\n",
              "      <td>0.75000</td>\n",
              "    </tr>\n",
              "    <tr>\n",
              "      <th>3478</th>\n",
              "      <td>The Ultimate jQuery Course</td>\n",
              "      <td>0.57735</td>\n",
              "    </tr>\n",
              "    <tr>\n",
              "      <th>242</th>\n",
              "      <td>Advanced Accounting for Investment Banking</td>\n",
              "      <td>0.50000</td>\n",
              "    </tr>\n",
              "    <tr>\n",
              "      <th>419</th>\n",
              "      <td>The Investment Banking Recruitment Series</td>\n",
              "      <td>0.50000</td>\n",
              "    </tr>\n",
              "    <tr>\n",
              "      <th>2718</th>\n",
              "      <td>The Ultimate Web Development Course</td>\n",
              "      <td>0.50000</td>\n",
              "    </tr>\n",
              "    <tr>\n",
              "      <th>...</th>\n",
              "      <td>...</td>\n",
              "      <td>...</td>\n",
              "    </tr>\n",
              "    <tr>\n",
              "      <th>3677</th>\n",
              "      <td>Learn jQuery from Scratch - Master of JavaScri...</td>\n",
              "      <td>0.00000</td>\n",
              "    </tr>\n",
              "    <tr>\n",
              "      <th>3678</th>\n",
              "      <td>How To Design A WordPress Website With No Codi...</td>\n",
              "      <td>0.00000</td>\n",
              "    </tr>\n",
              "    <tr>\n",
              "      <th>3679</th>\n",
              "      <td>Learn and Build using Polymer</td>\n",
              "      <td>0.00000</td>\n",
              "    </tr>\n",
              "    <tr>\n",
              "      <th>3680</th>\n",
              "      <td>CSS Animations: Create Amazing Effects on Your...</td>\n",
              "      <td>0.00000</td>\n",
              "    </tr>\n",
              "    <tr>\n",
              "      <th>3681</th>\n",
              "      <td>Using MODX CMS to Build Websites: A Beginner's...</td>\n",
              "      <td>0.00000</td>\n",
              "    </tr>\n",
              "  </tbody>\n",
              "</table>\n",
              "<p>3681 rows × 2 columns</p>\n",
              "</div>"
            ],
            "text/plain": [
              "                                           course_title  cosine_similarity_scores\n",
              "39          The Complete Investment Banking Course 2017                   0.75000\n",
              "3478                         The Ultimate jQuery Course                   0.57735\n",
              "242          Advanced Accounting for Investment Banking                   0.50000\n",
              "419           The Investment Banking Recruitment Series                   0.50000\n",
              "2718                The Ultimate Web Development Course                   0.50000\n",
              "...                                                 ...                       ...\n",
              "3677  Learn jQuery from Scratch - Master of JavaScri...                   0.00000\n",
              "3678  How To Design A WordPress Website With No Codi...                   0.00000\n",
              "3679                      Learn and Build using Polymer                   0.00000\n",
              "3680  CSS Animations: Create Amazing Effects on Your...                   0.00000\n",
              "3681  Using MODX CMS to Build Websites: A Beginner's...                   0.00000\n",
              "\n",
              "[3681 rows x 2 columns]"
            ]
          },
          "metadata": {},
          "execution_count": 53
        }
      ]
    },
    {
      "cell_type": "code",
      "metadata": {
        "id": "F3OGwtA0thgn"
      },
      "source": [
        "# Number of course for recommendation\n",
        "n_recommendations = 10"
      ],
      "execution_count": null,
      "outputs": []
    },
    {
      "cell_type": "code",
      "metadata": {
        "colab": {
          "base_uri": "https://localhost:8080/",
          "height": 359
        },
        "id": "6FYJ1F9DtzcU",
        "outputId": "6a51d55d-c00a-4d11-acf4-12cac6b067a0"
      },
      "source": [
        "recommendation_df.head(n_recommendations)"
      ],
      "execution_count": null,
      "outputs": [
        {
          "output_type": "execute_result",
          "data": {
            "text/html": [
              "<div>\n",
              "<style scoped>\n",
              "    .dataframe tbody tr th:only-of-type {\n",
              "        vertical-align: middle;\n",
              "    }\n",
              "\n",
              "    .dataframe tbody tr th {\n",
              "        vertical-align: top;\n",
              "    }\n",
              "\n",
              "    .dataframe thead th {\n",
              "        text-align: right;\n",
              "    }\n",
              "</style>\n",
              "<table border=\"1\" class=\"dataframe\">\n",
              "  <thead>\n",
              "    <tr style=\"text-align: right;\">\n",
              "      <th></th>\n",
              "      <th>course_title</th>\n",
              "      <th>cosine_similarity_scores</th>\n",
              "    </tr>\n",
              "  </thead>\n",
              "  <tbody>\n",
              "    <tr>\n",
              "      <th>39</th>\n",
              "      <td>The Complete Investment Banking Course 2017</td>\n",
              "      <td>0.750000</td>\n",
              "    </tr>\n",
              "    <tr>\n",
              "      <th>3478</th>\n",
              "      <td>The Ultimate jQuery Course</td>\n",
              "      <td>0.577350</td>\n",
              "    </tr>\n",
              "    <tr>\n",
              "      <th>242</th>\n",
              "      <td>Advanced Accounting for Investment Banking</td>\n",
              "      <td>0.500000</td>\n",
              "    </tr>\n",
              "    <tr>\n",
              "      <th>419</th>\n",
              "      <td>The Investment Banking Recruitment Series</td>\n",
              "      <td>0.500000</td>\n",
              "    </tr>\n",
              "    <tr>\n",
              "      <th>2718</th>\n",
              "      <td>The Ultimate Web Development Course</td>\n",
              "      <td>0.500000</td>\n",
              "    </tr>\n",
              "    <tr>\n",
              "      <th>2806</th>\n",
              "      <td>Ultimate WordPress Plugin Course</td>\n",
              "      <td>0.500000</td>\n",
              "    </tr>\n",
              "    <tr>\n",
              "      <th>659</th>\n",
              "      <td>Financial Accounting - The Ultimate Beginner C...</td>\n",
              "      <td>0.447214</td>\n",
              "    </tr>\n",
              "    <tr>\n",
              "      <th>1072</th>\n",
              "      <td>Managerial Accounting - The Ultimate Beginner ...</td>\n",
              "      <td>0.447214</td>\n",
              "    </tr>\n",
              "    <tr>\n",
              "      <th>1214</th>\n",
              "      <td>The Ultimate Drawing Course - Beginner to Adva...</td>\n",
              "      <td>0.447214</td>\n",
              "    </tr>\n",
              "    <tr>\n",
              "      <th>2647</th>\n",
              "      <td>The Ultimate Vue JS 2 Developers Course</td>\n",
              "      <td>0.447214</td>\n",
              "    </tr>\n",
              "  </tbody>\n",
              "</table>\n",
              "</div>"
            ],
            "text/plain": [
              "                                           course_title  cosine_similarity_scores\n",
              "39          The Complete Investment Banking Course 2017                  0.750000\n",
              "3478                         The Ultimate jQuery Course                  0.577350\n",
              "242          Advanced Accounting for Investment Banking                  0.500000\n",
              "419           The Investment Banking Recruitment Series                  0.500000\n",
              "2718                The Ultimate Web Development Course                  0.500000\n",
              "2806                   Ultimate WordPress Plugin Course                  0.500000\n",
              "659   Financial Accounting - The Ultimate Beginner C...                  0.447214\n",
              "1072  Managerial Accounting - The Ultimate Beginner ...                  0.447214\n",
              "1214  The Ultimate Drawing Course - Beginner to Adva...                  0.447214\n",
              "2647            The Ultimate Vue JS 2 Developers Course                  0.447214"
            ]
          },
          "metadata": {},
          "execution_count": 56
        }
      ]
    },
    {
      "cell_type": "markdown",
      "metadata": {
        "id": "I-f9NXWdtf_y"
      },
      "source": [
        "# 7. Put all together"
      ]
    },
    {
      "cell_type": "code",
      "metadata": {
        "id": "FsWidvUvuRCk"
      },
      "source": [
        "def recommend_courses(df, title, cosine_similarity_scores, n_recommendations = 10, verbose = False):\n",
        "  \"\"\"\n",
        "  Function for find the recommended courses\n",
        "  \"\"\"\n",
        "\n",
        "  # Title <-> Index\n",
        "  title_indx_df = pd.Series(df.index, index=df['course_title']).drop_duplicates()\n",
        "\n",
        "  # Index of the title\n",
        "  id = course_title_indx[title]\n",
        "\n",
        "  # Details of the course in consideration\n",
        "  if verbose :\n",
        "    print(\"Details of the course (id = \", id, \"):\")\n",
        "    print(df.iloc[id])\n",
        "    print()\n",
        "\n",
        "  # Cosine_similarity_scores\n",
        "  cosine_similarity_scores = cosine_sim_matrix[id]\n",
        "  scores = list(enumerate(cosine_similarity_scores))\n",
        "\n",
        "  # Sort the similarity Scores\n",
        "  sorted_scores = sorted(scores, key=lambda x:x[1], reverse=True)\n",
        "\n",
        "  # Remove the first element, because it is being compared to itself, -> score = 1\n",
        "  sorted_scores.pop(0)\n",
        "  \n",
        "  # Find n_recommendations\n",
        "  rec_course_idx = [x[0] for x in sorted_scores]\n",
        "  rec_course_scores = [x[1] for x in sorted_scores]\n",
        "  recommended_courses = df['course_title'].iloc[rec_course_idx]\n",
        "\n",
        "  recommendation_df = pd.DataFrame({\n",
        "      \"course_title\" : recommended_courses,\n",
        "      \"cosine_similarity_scores\" : rec_course_scores\n",
        "  })\n",
        "\n",
        "  return recommendation_df.head(n_recommendations)"
      ],
      "execution_count": null,
      "outputs": []
    },
    {
      "cell_type": "code",
      "metadata": {
        "colab": {
          "base_uri": "https://localhost:8080/",
          "height": 665
        },
        "id": "KgaETEd_ygoN",
        "outputId": "0b08f9ce-5c64-4216-fe0c-f746e82783c5"
      },
      "source": [
        "recommend_courses(df, course_title, cosine_similarity_scores, n_recommendations = 10, verbose = True)"
      ],
      "execution_count": null,
      "outputs": [
        {
          "output_type": "stream",
          "text": [
            "Details of the course (id =  3677 ):\n",
            "course_id                                                         775618\n",
            "course_title           Learn jQuery from Scratch - Master of JavaScri...\n",
            "url                    https://www.udemy.com/easy-jquery-for-beginner...\n",
            "is_paid                                                             True\n",
            "price                                                                100\n",
            "num_subscribers                                                     1040\n",
            "num_reviews                                                           14\n",
            "num_lectures                                                          21\n",
            "level                                                         All Levels\n",
            "duration                                                             120\n",
            "duration_unit                                                       mins\n",
            "published_timestamp                                 2016-06-14T17:36:46Z\n",
            "subject                                                  Web Development\n",
            "year                                                                2016\n",
            "cleaned_title          learn jquery  scratch  master  javascript library\n",
            "Name: 3677, dtype: object\n",
            "\n"
          ],
          "name": "stdout"
        },
        {
          "output_type": "execute_result",
          "data": {
            "text/html": [
              "<div>\n",
              "<style scoped>\n",
              "    .dataframe tbody tr th:only-of-type {\n",
              "        vertical-align: middle;\n",
              "    }\n",
              "\n",
              "    .dataframe tbody tr th {\n",
              "        vertical-align: top;\n",
              "    }\n",
              "\n",
              "    .dataframe thead th {\n",
              "        text-align: right;\n",
              "    }\n",
              "</style>\n",
              "<table border=\"1\" class=\"dataframe\">\n",
              "  <thead>\n",
              "    <tr style=\"text-align: right;\">\n",
              "      <th></th>\n",
              "      <th>course_title</th>\n",
              "      <th>cosine_similarity_scores</th>\n",
              "    </tr>\n",
              "  </thead>\n",
              "  <tbody>\n",
              "    <tr>\n",
              "      <th>2623</th>\n",
              "      <td>Learn Javascript &amp; JQuery From Scratch</td>\n",
              "      <td>0.816497</td>\n",
              "    </tr>\n",
              "    <tr>\n",
              "      <th>2774</th>\n",
              "      <td>Learn JavaScript from scratch</td>\n",
              "      <td>0.707107</td>\n",
              "    </tr>\n",
              "    <tr>\n",
              "      <th>2630</th>\n",
              "      <td>JavaScript For Beginners : Learn JavaScript Fr...</td>\n",
              "      <td>0.617213</td>\n",
              "    </tr>\n",
              "    <tr>\n",
              "      <th>3495</th>\n",
              "      <td>JQuery Basics - Learn JQuery From Scratch</td>\n",
              "      <td>0.617213</td>\n",
              "    </tr>\n",
              "    <tr>\n",
              "      <th>3001</th>\n",
              "      <td>Learn Jquery from Scratch 2-Hour Training</td>\n",
              "      <td>0.547723</td>\n",
              "    </tr>\n",
              "    <tr>\n",
              "      <th>3533</th>\n",
              "      <td>Master Riot: Learn Riot.js from Scratch</td>\n",
              "      <td>0.547723</td>\n",
              "    </tr>\n",
              "    <tr>\n",
              "      <th>2824</th>\n",
              "      <td>Learn React : The World's Most Lucrative JavaS...</td>\n",
              "      <td>0.500000</td>\n",
              "    </tr>\n",
              "    <tr>\n",
              "      <th>3381</th>\n",
              "      <td>Master EmberJS : Learn Ember JS From Scratch</td>\n",
              "      <td>0.500000</td>\n",
              "    </tr>\n",
              "    <tr>\n",
              "      <th>615</th>\n",
              "      <td>Learn Bookkeeping From Scratch</td>\n",
              "      <td>0.471405</td>\n",
              "    </tr>\n",
              "    <tr>\n",
              "      <th>2494</th>\n",
              "      <td>Learn JavaScript for beginners</td>\n",
              "      <td>0.471405</td>\n",
              "    </tr>\n",
              "  </tbody>\n",
              "</table>\n",
              "</div>"
            ],
            "text/plain": [
              "                                           course_title  cosine_similarity_scores\n",
              "2623             Learn Javascript & JQuery From Scratch                  0.816497\n",
              "2774                      Learn JavaScript from scratch                  0.707107\n",
              "2630  JavaScript For Beginners : Learn JavaScript Fr...                  0.617213\n",
              "3495          JQuery Basics - Learn JQuery From Scratch                  0.617213\n",
              "3001         Learn Jquery from Scratch 2-Hour Training                   0.547723\n",
              "3533            Master Riot: Learn Riot.js from Scratch                  0.547723\n",
              "2824  Learn React : The World's Most Lucrative JavaS...                  0.500000\n",
              "3381       Master EmberJS : Learn Ember JS From Scratch                  0.500000\n",
              "615                      Learn Bookkeeping From Scratch                  0.471405\n",
              "2494                     Learn JavaScript for beginners                  0.471405"
            ]
          },
          "metadata": {},
          "execution_count": 92
        }
      ]
    }
  ]
}