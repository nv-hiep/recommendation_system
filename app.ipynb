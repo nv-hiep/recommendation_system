{
  "nbformat": 4,
  "nbformat_minor": 0,
  "metadata": {
    "colab": {
      "name": "app.ipynb",
      "provenance": [],
      "collapsed_sections": [],
      "authorship_tag": "ABX9TyMjwdZIbgSL43tVR0Xms5DW",
      "include_colab_link": true
    },
    "kernelspec": {
      "name": "python3",
      "display_name": "Python 3"
    },
    "language_info": {
      "name": "python"
    },
    "accelerator": "GPU"
  },
  "cells": [
    {
      "cell_type": "markdown",
      "metadata": {
        "id": "view-in-github",
        "colab_type": "text"
      },
      "source": [
        "<a href=\"https://colab.research.google.com/github/nv-hiep/Hoola_RecommendationSystem/blob/main/app.ipynb\" target=\"_parent\"><img src=\"https://colab.research.google.com/assets/colab-badge.svg\" alt=\"Open In Colab\"/></a>"
      ]
    },
    {
      "cell_type": "markdown",
      "metadata": {
        "id": "DsU-HAmlfo8V"
      },
      "source": [
        "# Prerequisite"
      ]
    },
    {
      "cell_type": "markdown",
      "metadata": {
        "id": "PE7cZFYnfrdz"
      },
      "source": [
        "- Create an account on Ngrok (https://ngrok.com/). ngrok provides a real-time web UI where you can introspect all HTTP traffic running over your tunnels.\n",
        "\n",
        "- Get Authentication Token (https://dashboard.ngrok.com/get-started/your-authtoken)\n",
        "\n",
        "- The Auth token is in this format: ./ngrok authtoken xxxxxxxxxxxxxxxxxxxxxxxxxx\n",
        "\n",
        "- Use the auth token to connect your Ngrok account."
      ]
    },
    {
      "cell_type": "markdown",
      "metadata": {
        "id": "YKnYL-8qY9kx"
      },
      "source": [
        "# Install packages"
      ]
    },
    {
      "cell_type": "markdown",
      "metadata": {
        "id": "w5-L9B5rfeeB"
      },
      "source": [
        "Install streamlit and pyngrok"
      ]
    },
    {
      "cell_type": "code",
      "metadata": {
        "id": "cW3Ktwo1Y3NW"
      },
      "source": [
        "!pip install streamlit"
      ],
      "execution_count": null,
      "outputs": []
    },
    {
      "cell_type": "code",
      "metadata": {
        "id": "t_pSFh0cfQMZ"
      },
      "source": [
        "!pip install pyngrok"
      ],
      "execution_count": null,
      "outputs": []
    },
    {
      "cell_type": "markdown",
      "metadata": {
        "id": "z7slQ9Y9f7Sr"
      },
      "source": [
        "# 1. Libraries"
      ]
    },
    {
      "cell_type": "code",
      "metadata": {
        "id": "pLXcM68QdTTR"
      },
      "source": [
        "# Python ≥3.5 is required\n",
        "import sys\n",
        "assert sys.version_info >= (3, 5)\n",
        "\n",
        "# Scikit-Learn ≥0.20 is required\n",
        "import sklearn\n",
        "assert sklearn.__version__ >= '0.20'\n",
        "\n",
        "try:\n",
        "    # %tensorflow_version only exists in Colab.\n",
        "    %tensorflow_version 2.x\n",
        "    IS_COLAB = True\n",
        "except Exception:\n",
        "    IS_COLAB = False\n",
        "\n",
        "# TensorFlow ≥2.0 is required\n",
        "import tensorflow as tf\n",
        "from tensorflow import keras\n",
        "assert tf.__version__ >= '2.0'\n",
        "\n",
        "if not tf.config.list_physical_devices('GPU'):\n",
        "    print('No GPU was detected. LSTMs and CNNs can be very slow without a GPU.')\n",
        "    if IS_COLAB:\n",
        "        print('Go to Runtime > Change runtime and select a GPU hardware accelerator.')\n",
        "\n",
        "# Common imports\n",
        "import os\n",
        "import shutil\n",
        "import itertools\n",
        "import glob\n",
        "import numpy as np\n",
        "import matplotlib.image as mpimg\n",
        "import pandas as pd\n",
        "\n",
        "import string\n",
        "import pickle\n",
        "\n",
        "from tqdm import tqdm\n",
        "from time import time\n",
        "from PIL import Image\n",
        "\n",
        "\n",
        "# to make this notebook's output stable across runs\n",
        "np.random.seed(42)\n",
        "tf.random.set_seed(42)\n",
        "\n",
        "# To plot pretty figures\n",
        "%matplotlib inline\n",
        "import matplotlib as mpl\n",
        "import matplotlib.pyplot as plt\n",
        "# mpl.rc('axes', labelsize=14)\n",
        "# mpl.rc('xtick', labelsize=12)\n",
        "# mpl.rc('ytick', labelsize=12)"
      ],
      "execution_count": null,
      "outputs": []
    },
    {
      "cell_type": "code",
      "metadata": {
        "id": "tp6HKyDhYcu7"
      },
      "source": [
        "# streamlit\n",
        "import streamlit as st \n",
        "import streamlit.components.v1 as stc\n",
        "\n",
        "# ngrok\n",
        "from pyngrok import ngrok"
      ],
      "execution_count": 4,
      "outputs": []
    },
    {
      "cell_type": "code",
      "metadata": {
        "id": "N8s7lVGJjQcU"
      },
      "source": [
        "# For text mining\n",
        "from sklearn.feature_extraction.text import CountVectorizer,TfidfVectorizer\n",
        "from sklearn.metrics.pairwise import cosine_similarity"
      ],
      "execution_count": 5,
      "outputs": []
    },
    {
      "cell_type": "markdown",
      "metadata": {
        "id": "BVhoD8seDk4x"
      },
      "source": [
        "# 2. Connect to Google Drive"
      ]
    },
    {
      "cell_type": "code",
      "metadata": {
        "id": "srBiJiFEaKl1"
      },
      "source": [
        "# Check if NVIDIA GPU is enabled\n",
        "# !nvidia-smi"
      ],
      "execution_count": 6,
      "outputs": []
    },
    {
      "cell_type": "code",
      "metadata": {
        "id": "PjjcQSpya_FR"
      },
      "source": [
        "# from google.colab import drive\n",
        "# drive.mount('/content/gdrive')\n",
        "# !ls"
      ],
      "execution_count": 7,
      "outputs": []
    },
    {
      "cell_type": "code",
      "metadata": {
        "id": "iYM4wmy-cFlK"
      },
      "source": [
        "# %cd /content/gdrive/My Drive/\n",
        "# !ls"
      ],
      "execution_count": 8,
      "outputs": []
    },
    {
      "cell_type": "code",
      "metadata": {
        "colab": {
          "base_uri": "https://localhost:8080/"
        },
        "id": "oljDNo3zFO-z",
        "outputId": "4f860760-dd0e-4c6f-fe11-dd7a51642301"
      },
      "source": [
        "! pwd"
      ],
      "execution_count": 9,
      "outputs": [
        {
          "output_type": "stream",
          "text": [
            "/content\n"
          ],
          "name": "stdout"
        }
      ]
    },
    {
      "cell_type": "markdown",
      "metadata": {
        "id": "o86-F-QZFqjU"
      },
      "source": [
        "## 3. Paths to Data Directories"
      ]
    },
    {
      "cell_type": "code",
      "metadata": {
        "id": "ynr1SMD4FOSs"
      },
      "source": [
        "DATA_PATH = '/content/sample_data/'"
      ],
      "execution_count": 10,
      "outputs": []
    },
    {
      "cell_type": "markdown",
      "metadata": {
        "id": "eMEmhU7eivAK"
      },
      "source": [
        "# 4. Read data"
      ]
    },
    {
      "cell_type": "code",
      "metadata": {
        "id": "02djzwBtisYg",
        "colab": {
          "base_uri": "https://localhost:8080/",
          "height": 397
        },
        "outputId": "be2c4731-3aa4-4c5f-e764-0f23dbf50cbd"
      },
      "source": [
        "data_file = os.path.join(DATA_PATH, \"courses_cleaned_data.csv\")\n",
        "df = pd.read_csv(data_file)\n",
        "df.head(4)"
      ],
      "execution_count": 11,
      "outputs": [
        {
          "output_type": "execute_result",
          "data": {
            "text/html": [
              "<div>\n",
              "<style scoped>\n",
              "    .dataframe tbody tr th:only-of-type {\n",
              "        vertical-align: middle;\n",
              "    }\n",
              "\n",
              "    .dataframe tbody tr th {\n",
              "        vertical-align: top;\n",
              "    }\n",
              "\n",
              "    .dataframe thead th {\n",
              "        text-align: right;\n",
              "    }\n",
              "</style>\n",
              "<table border=\"1\" class=\"dataframe\">\n",
              "  <thead>\n",
              "    <tr style=\"text-align: right;\">\n",
              "      <th></th>\n",
              "      <th>course_id</th>\n",
              "      <th>course_title</th>\n",
              "      <th>url</th>\n",
              "      <th>is_paid</th>\n",
              "      <th>price</th>\n",
              "      <th>num_subscribers</th>\n",
              "      <th>num_reviews</th>\n",
              "      <th>num_lectures</th>\n",
              "      <th>level</th>\n",
              "      <th>content_duration</th>\n",
              "      <th>duration</th>\n",
              "      <th>duration_unit</th>\n",
              "      <th>published_timestamp</th>\n",
              "      <th>subject</th>\n",
              "      <th>year</th>\n",
              "      <th>cleaned_title</th>\n",
              "    </tr>\n",
              "  </thead>\n",
              "  <tbody>\n",
              "    <tr>\n",
              "      <th>0</th>\n",
              "      <td>1070968</td>\n",
              "      <td>Ultimate Investment Banking Course</td>\n",
              "      <td>https://www.udemy.com/ultimate-investment-bank...</td>\n",
              "      <td>True</td>\n",
              "      <td>200</td>\n",
              "      <td>2147</td>\n",
              "      <td>23</td>\n",
              "      <td>51</td>\n",
              "      <td>All Levels</td>\n",
              "      <td>1.5 hours</td>\n",
              "      <td>90</td>\n",
              "      <td>mins</td>\n",
              "      <td>2017-01-18T20:58:58Z</td>\n",
              "      <td>Business Finance</td>\n",
              "      <td>2017</td>\n",
              "      <td>ultimate investment banking course</td>\n",
              "    </tr>\n",
              "    <tr>\n",
              "      <th>1</th>\n",
              "      <td>1113822</td>\n",
              "      <td>Complete GST Course &amp; Certification - Grow You...</td>\n",
              "      <td>https://www.udemy.com/goods-and-services-tax/</td>\n",
              "      <td>True</td>\n",
              "      <td>75</td>\n",
              "      <td>2792</td>\n",
              "      <td>923</td>\n",
              "      <td>274</td>\n",
              "      <td>All Levels</td>\n",
              "      <td>39 hours</td>\n",
              "      <td>2340</td>\n",
              "      <td>mins</td>\n",
              "      <td>2017-03-09T16:34:20Z</td>\n",
              "      <td>Business Finance</td>\n",
              "      <td>2017</td>\n",
              "      <td>complete gst course  certification  grow  ca p...</td>\n",
              "    </tr>\n",
              "    <tr>\n",
              "      <th>2</th>\n",
              "      <td>1006314</td>\n",
              "      <td>Financial Modeling for Business Analysts and C...</td>\n",
              "      <td>https://www.udemy.com/financial-modeling-for-b...</td>\n",
              "      <td>True</td>\n",
              "      <td>45</td>\n",
              "      <td>2174</td>\n",
              "      <td>74</td>\n",
              "      <td>51</td>\n",
              "      <td>Intermediate Level</td>\n",
              "      <td>2.5 hours</td>\n",
              "      <td>150</td>\n",
              "      <td>mins</td>\n",
              "      <td>2016-12-19T19:26:30Z</td>\n",
              "      <td>Business Finance</td>\n",
              "      <td>2016</td>\n",
              "      <td>financial modeling  business analysts  consult...</td>\n",
              "    </tr>\n",
              "    <tr>\n",
              "      <th>3</th>\n",
              "      <td>1210588</td>\n",
              "      <td>Beginner to Pro - Financial Analysis in Excel ...</td>\n",
              "      <td>https://www.udemy.com/complete-excel-finance-c...</td>\n",
              "      <td>True</td>\n",
              "      <td>95</td>\n",
              "      <td>2451</td>\n",
              "      <td>11</td>\n",
              "      <td>36</td>\n",
              "      <td>All Levels</td>\n",
              "      <td>3 hours</td>\n",
              "      <td>180</td>\n",
              "      <td>mins</td>\n",
              "      <td>2017-05-30T20:07:24Z</td>\n",
              "      <td>Business Finance</td>\n",
              "      <td>2017</td>\n",
              "      <td>beginner  pro  financial analysis  excel</td>\n",
              "    </tr>\n",
              "  </tbody>\n",
              "</table>\n",
              "</div>"
            ],
            "text/plain": [
              "   course_id  ...                                      cleaned_title\n",
              "0    1070968  ...                 ultimate investment banking course\n",
              "1    1113822  ...  complete gst course  certification  grow  ca p...\n",
              "2    1006314  ...  financial modeling  business analysts  consult...\n",
              "3    1210588  ...          beginner  pro  financial analysis  excel \n",
              "\n",
              "[4 rows x 16 columns]"
            ]
          },
          "metadata": {},
          "execution_count": 11
        }
      ]
    },
    {
      "cell_type": "code",
      "metadata": {
        "colab": {
          "base_uri": "https://localhost:8080/"
        },
        "id": "HYEz55ooknvH",
        "outputId": "168f3895-f64c-4bcc-f5be-97dfb4625423"
      },
      "source": [
        "df.columns"
      ],
      "execution_count": 23,
      "outputs": [
        {
          "output_type": "execute_result",
          "data": {
            "text/plain": [
              "Index(['course_id', 'course_title', 'url', 'is_paid', 'price',\n",
              "       'num_subscribers', 'num_reviews', 'num_lectures', 'level',\n",
              "       'content_duration', 'duration', 'duration_unit', 'published_timestamp',\n",
              "       'subject', 'year', 'cleaned_title'],\n",
              "      dtype='object')"
            ]
          },
          "metadata": {},
          "execution_count": 23
        }
      ]
    },
    {
      "cell_type": "markdown",
      "metadata": {
        "id": "LCnGLJHBg9nu"
      },
      "source": [
        "# 5. Write code to file\n",
        "\n",
        " - Write code to a file and save it using %%writefile.\n",
        " - The %%writefile writes the current cell to a filename \\<filename.py\\>."
      ]
    },
    {
      "cell_type": "code",
      "metadata": {
        "colab": {
          "base_uri": "https://localhost:8080/"
        },
        "id": "vwwBt_95Z0W1",
        "outputId": "953a63dd-5b9b-4974-c177-7eae631ae25c"
      },
      "source": [
        "%%writefile app.py\n",
        "import os\n",
        "import pandas as pd \n",
        "import numpy as np\n",
        "\n",
        "import streamlit as st \n",
        "import streamlit.components.v1 as stc\n",
        "\n",
        "from sklearn.feature_extraction.text import CountVectorizer\n",
        "from sklearn.metrics.pairwise import cosine_similarity\n",
        "\n",
        "st.set_page_config(\n",
        "    page_title=\"\",\n",
        "    page_icon=\"🧊\",\n",
        "    layout=\"wide\",\n",
        "    initial_sidebar_state=\"expanded\")\n",
        "\n",
        "\n",
        "def load_data(data_path):\n",
        "  \"\"\"\n",
        "  Load data from csv file into data frame\n",
        "  \"\"\"\n",
        "  return pd.read_csv(data_path)\n",
        "\n",
        "\n",
        "def similarity_cosine_matrix(X):\n",
        "  \"\"\"\n",
        "  Vectorize the text data\n",
        "  And compute the Cosine Similarity Matrix\n",
        "  \"\"\"\n",
        "  count_vec = CountVectorizer()\n",
        "  count_vec_matrix = count_vec.fit_transform(X)\n",
        "\n",
        "  # Calc. Cosine Similarity Matrix\n",
        "  cosine_sim_matrix = cosine_similarity(count_vec_matrix)\n",
        "  return cosine_sim_matrix\n",
        "\n",
        "\n",
        "\n",
        "\n",
        "@st.cache  # This function will be cached\n",
        "def recommend_courses(df, title, cosine_similarity_scores, n_recommendations = 10, verbose = False):\n",
        "  \"\"\"\n",
        "  Find the recommended courses\n",
        "  \"\"\"\n",
        "  # A Series for finding Course_Title <-> Index\n",
        "  title_indx_df = pd.Series(df.index, index=df['course_title']).drop_duplicates()\n",
        "\n",
        "  # Index of the course_title\n",
        "  id = title_indx_df[title]\n",
        "\n",
        "  # Details of the course in consideration\n",
        "  if verbose :\n",
        "    print(\"Details of the course (id = \", id, \"):\")\n",
        "    print(df.iloc[id])\n",
        "    print()\n",
        "\n",
        "  # Cosine_similarity_scores\n",
        "  cosine_similarity_scores = np.round(cosine_similarity_scores[id],3)\n",
        "  scores = list(enumerate(cosine_similarity_scores))\n",
        "\n",
        "  # Sort the similarity Scores\n",
        "  sorted_scores = sorted(scores, key=lambda x:x[1], reverse=True)\n",
        "\n",
        "  # Remove the first element, because it is being compared to itself, -> score = 1\n",
        "  sorted_scores.pop(0)\n",
        "\n",
        "  # Find n_recommendations\n",
        "  rec_course_idx = [x[0] for x in sorted_scores]\n",
        "  rec_course_scores = [x[1] for x in sorted_scores]\n",
        "  recommended_courses = df.iloc[rec_course_idx]\n",
        "  recommended_courses[\"cosine_similarity_scores\"] = rec_course_scores\n",
        "\n",
        "  return recommended_courses.head(n_recommendations)\n",
        "\n",
        "\n",
        "\n",
        "\n",
        "@st.cache  # This function will be cached\n",
        "def search_term_if_not_found(term, df):\n",
        "\tresult_df = df[df['course_title'].str.contains(term)]\n",
        "\treturn result_df\n",
        "\n",
        "\n",
        "\n",
        "\n",
        "\n",
        "widget = \"\"\"\n",
        "<div style=\"width:100%;height:50%;margin:1px;padding:6px;position:relative;border-radius:2px;border-bottom-right-radius: 6px;\n",
        "box-shadow:0 0 5px 5px #ccc; background-color: #F1F5F5;\n",
        "  border-left: 0px solid #6c6c6c;\">\n",
        "\n",
        "<h4>{}</h4>\n",
        "<p style=\"color:black;\"><span style=\"color:black;\">📈Similarity Score: </span>{}</p>\n",
        "<p style=\"color:black;\"><span style=\"color:black;\">🔗</span><a href=\"{}\" target=\"_blank\">Link</a></p>\n",
        "<p style=\"color:black;\"><span style=\"color:black;\">💲Price: $</span>{}</p>\n",
        "<p style=\"color:black;\"><span style=\"color:black;\">🧑‍🎓👨🏽‍🎓 Subscribers: </span>{}</p>\n",
        "\n",
        "</div>\n",
        "\"\"\"\n",
        "\n",
        "\n",
        "\n",
        "\n",
        "def main():\n",
        "\n",
        "  st.title(\"Hoola: Course Recommender\")\n",
        "\n",
        "  menu = [\"Home\", \"Recommend Courses\", \"About\"]\n",
        "  \n",
        "  choice = st.sidebar.selectbox(\"Menu\", menu)\n",
        "\n",
        "  df = load_data(\"/content/sample_data/courses_cleaned_data.csv\")\n",
        "\n",
        "  if choice == \"Home\":\n",
        "    st.subheader(\"Most popular courses\")\n",
        "\n",
        "    # Show courses\n",
        "    show_cols = ['course_title', 'price', 'num_subscribers', 'num_lectures', 'level', 'content_duration', 'year','subject']\n",
        "    n_shown = st.selectbox(\"Number of courses to show:\", [5,10,20,30, 50, 100, 200, 500, len(df)])\n",
        "    # st.write(\"You selected:\", n_shown)\n",
        "    st.dataframe(df[show_cols].sort_values(by='num_subscribers', ascending=False).head(n_shown))\n",
        "\n",
        "    \n",
        "    # Find courses\n",
        "    st.subheader(\"Find your course\")\n",
        "    find_cols = ['course_title', 'price', 'num_subscribers',\n",
        "          'num_lectures', 'level', 'content_duration', 'year']\n",
        "\n",
        "    cat = st.selectbox(\"Select suject:\", ['Business Finance', 'Graphic Design', 'Musical Instruments', 'Web Development'])\n",
        "    query = st.text_input(\"Search:\")\n",
        "    nf_shown = st.selectbox(\"Number of courses to show:\", [5,10,20,30,100])\n",
        "\n",
        "    if st.button(\"Submit\"):\n",
        "      found_df = df[find_cols][ (df[\"subject\"] == cat) & (df['course_title'].str.contains(query)) ].sort_values(by='num_subscribers', ascending=False)\n",
        "      st.dataframe(found_df.head(nf_shown))\n",
        "\n",
        "\n",
        "\n",
        "  elif choice == \"Recommend Courses\":\n",
        "    st.subheader(\"Course recommendation\")\n",
        "\n",
        "    cosine_similarity_scores = similarity_cosine_matrix(df['cleaned_title'])\n",
        "\n",
        "    query = st.text_input(\"Search:\")\n",
        "\n",
        "    n_rec = st.number_input(\"Number of recommended courses:\", 3, 30, 5)\n",
        "    if st.button(\"Submit\"):\n",
        "      if query is not None:\n",
        "        try:\n",
        "          results = recommend_courses(df, query, cosine_similarity_scores, n_recommendations = n_rec)\n",
        "\n",
        "          # Show as JSON\n",
        "          with st.expander(\"Results as JSON\"):\n",
        "            results_json = results.to_dict('index')\n",
        "            st.write(results_json)\n",
        "\n",
        "          for rowid, row in results.iterrows():\n",
        "            rec_title   = row[\"course_title\"] \n",
        "            rec_score   = row[\"cosine_similarity_scores\"]\n",
        "            rec_url     = row[\"url\"]\n",
        "            rec_price   = row[\"price\"]\n",
        "            rec_num_sub = row[\"num_subscribers\"]\n",
        "\n",
        "            stc.html(widget.format(rec_title, rec_score, rec_url, rec_price, rec_num_sub),height=350)\n",
        "\n",
        "        except:\n",
        "          results= \"No courses found! Please enter the exact title of the course.\"\n",
        "          st.warning(results)\n",
        "          st.info(\"Below are some suggestions:\")\n",
        "          sugg_cols = ['course_title', 'price', 'num_lectures', 'level', 'content_duration', 'year','subject']\n",
        "          result_df = search_term_if_not_found(query, df)\n",
        "          st.dataframe(result_df[sugg_cols])\n",
        "\n",
        "  else:\n",
        "    st.subheader(\"About\")\n",
        "    st.text(\"Hoola: Course Recommender with Python, Pandas, Cosine Similarity and Streamlit\")\n",
        "\n",
        "\n",
        "\n",
        "if __name__ == '__main__':\n",
        "  main()"
      ],
      "execution_count": 24,
      "outputs": [
        {
          "output_type": "stream",
          "text": [
            "Overwriting app.py\n"
          ],
          "name": "stdout"
        }
      ]
    },
    {
      "cell_type": "code",
      "metadata": {
        "colab": {
          "base_uri": "https://localhost:8080/"
        },
        "id": "fO_RRAqtiBgt",
        "outputId": "1c389a5f-56de-4bd1-a1b5-f7ece3f7a7b8"
      },
      "source": [
        "%%writefile test_app.py\n",
        "import streamlit as st \n",
        "import streamlit.components.v1 as stc\n",
        "\n",
        "def main():\n",
        "  st.title(\"Title\")\n",
        "  st.subheader(\"Run streamlit from colab\")\n",
        "\n",
        "\n",
        "  menu = [\"Home\", \"About\"]\n",
        "  choice = st.sidebar.selectbox(\"Menu\",menu)\n",
        "  \n",
        "  if choice == 'Home':\n",
        "    st.subheader(\"Streamlit From Colab\")\n",
        "  else:\n",
        "    st.subheader(\"About\")\n",
        "    st.text(\"Streamlit & Colab\")\n",
        "\n",
        "\n",
        "\n",
        "if __name__ == '__main__':\n",
        "  main()"
      ],
      "execution_count": 25,
      "outputs": [
        {
          "output_type": "stream",
          "text": [
            "Overwriting test_app.py\n"
          ],
          "name": "stdout"
        }
      ]
    },
    {
      "cell_type": "code",
      "metadata": {
        "colab": {
          "base_uri": "https://localhost:8080/"
        },
        "id": "eS23gWxliRQQ",
        "outputId": "4e0e1228-0caf-4965-8ea2-e07359c74899"
      },
      "source": [
        "# Check if the test_app.py exists\n",
        "!pwd\n",
        "!ls"
      ],
      "execution_count": 26,
      "outputs": [
        {
          "output_type": "stream",
          "text": [
            "/content\n",
            "app.py\tsample_data  test_app.py\n"
          ],
          "name": "stdout"
        }
      ]
    },
    {
      "cell_type": "markdown",
      "metadata": {
        "id": "IK0Is2uXtnAV"
      },
      "source": [
        "# Run the app on ngrok"
      ]
    },
    {
      "cell_type": "markdown",
      "metadata": {
        "id": "KEV2d_IodwDI"
      },
      "source": [
        "Connect to ngrok"
      ]
    },
    {
      "cell_type": "code",
      "metadata": {
        "colab": {
          "base_uri": "https://localhost:8080/"
        },
        "id": "_61RffL8mTk8",
        "outputId": "e5f653a6-c289-45a5-85f2-61da7322e5e9"
      },
      "source": [
        "!ngrok authtoken xxxxxxxxxxxxxxxxxxxxxxxxxxxxxxxxxxxxxxxxxxxxxxxx"
      ],
      "execution_count": 27,
      "outputs": [
        {
          "output_type": "stream",
          "text": [
            "Authtoken saved to configuration file: /root/.ngrok2/ngrok.yml\n"
          ],
          "name": "stdout"
        }
      ]
    },
    {
      "cell_type": "code",
      "metadata": {
        "id": "lL0RYcdVimKh"
      },
      "source": [
        "# Run the processes in the background.\n",
        "# !streamlit run test_app.py &>/dev/null&\n",
        "# !streamlit run --server.port 80 test_app.py &>/dev/null&\n",
        "!streamlit run --server.port 80 app.py &>/dev/null&"
      ],
      "execution_count": 28,
      "outputs": []
    },
    {
      "cell_type": "code",
      "metadata": {
        "colab": {
          "base_uri": "https://localhost:8080/"
        },
        "id": "H5CRdhDjmwCY",
        "outputId": "8492898b-a74a-4fc2-f3f0-70ad4a68edd1"
      },
      "source": [
        "! pgrep streamlit"
      ],
      "execution_count": 29,
      "outputs": [
        {
          "output_type": "stream",
          "text": [
            "237\n",
            "283\n"
          ],
          "name": "stdout"
        }
      ]
    },
    {
      "cell_type": "markdown",
      "metadata": {
        "id": "NFDcsuqpi9pP"
      },
      "source": [
        "Use pyngrok to create a tunnel and passing in the port from streamlit (ie 80)."
      ]
    },
    {
      "cell_type": "code",
      "metadata": {
        "colab": {
          "base_uri": "https://localhost:8080/"
        },
        "id": "IumZ4IwljKP-",
        "outputId": "b1495150-15e6-4a49-e248-9bf4ee003dde"
      },
      "source": [
        "# Setup a tunnel using streamlit port 80\n",
        "pub_url = ngrok.connect(port='80')\n",
        "pub_url"
      ],
      "execution_count": 30,
      "outputs": [
        {
          "output_type": "stream",
          "text": [
            "2021-08-26 17:33:42.353 INFO    pyngrok.ngrok: Opening tunnel named: http-80-2780f6aa-02b4-4130-a456-3b947e0863fb\n",
            "2021-08-26 17:33:42.408 INFO    pyngrok.process.ngrok: t=2021-08-26T17:33:42+0000 lvl=info msg=\"no configuration paths supplied\"\n",
            "2021-08-26 17:33:42.414 INFO    pyngrok.process.ngrok: t=2021-08-26T17:33:42+0000 lvl=info msg=\"using configuration at default config path\" path=/root/.ngrok2/ngrok.yml\n",
            "2021-08-26 17:33:42.417 INFO    pyngrok.process.ngrok: t=2021-08-26T17:33:42+0000 lvl=info msg=\"open config file\" path=/root/.ngrok2/ngrok.yml err=nil\n",
            "2021-08-26 17:33:42.426 INFO    pyngrok.process.ngrok: t=2021-08-26T17:33:42+0000 lvl=info msg=\"starting web service\" obj=web addr=127.0.0.1:4040\n",
            "2021-08-26 17:33:42.578 INFO    pyngrok.process.ngrok: t=2021-08-26T17:33:42+0000 lvl=info msg=\"tunnel session started\" obj=tunnels.session\n",
            "2021-08-26 17:33:42.580 INFO    pyngrok.process.ngrok: t=2021-08-26T17:33:42+0000 lvl=info msg=\"client session established\" obj=csess id=fb86a58cc6d8\n",
            "2021-08-26 17:33:42.596 INFO    pyngrok.process.ngrok: t=2021-08-26T17:33:42+0000 lvl=info msg=start pg=/api/tunnels id=82e75ce7d0d32cbb\n",
            "2021-08-26 17:33:42.601 INFO    pyngrok.process.ngrok: t=2021-08-26T17:33:42+0000 lvl=info msg=end pg=/api/tunnels id=82e75ce7d0d32cbb status=200 dur=449.377µs\n",
            "2021-08-26 17:33:42.603 INFO    pyngrok.process.ngrok: t=2021-08-26T17:33:42+0000 lvl=info msg=start pg=/api/tunnels id=838500355d15df24\n",
            "2021-08-26 17:33:42.604 INFO    pyngrok.process.ngrok: t=2021-08-26T17:33:42+0000 lvl=info msg=end pg=/api/tunnels id=838500355d15df24 status=200 dur=112.345µs\n",
            "2021-08-26 17:33:42.606 INFO    pyngrok.process.ngrok: t=2021-08-26T17:33:42+0000 lvl=info msg=start pg=/api/tunnels id=87cf270d07c2cb3e\n",
            "2021-08-26 17:33:42.680 INFO    pyngrok.process.ngrok: t=2021-08-26T17:33:42+0000 lvl=info msg=\"started tunnel\" obj=tunnels name=\"http-80-2780f6aa-02b4-4130-a456-3b947e0863fb (http)\" addr=http://localhost:80 url=http://6913-34-69-37-2.ngrok.io\n",
            "2021-08-26 17:33:42.683 INFO    pyngrok.process.ngrok: t=2021-08-26T17:33:42+0000 lvl=info msg=\"started tunnel\" obj=tunnels name=http-80-2780f6aa-02b4-4130-a456-3b947e0863fb addr=http://localhost:80 url=https://6913-34-69-37-2.ngrok.io\n",
            "2021-08-26 17:33:42.687 INFO    pyngrok.process.ngrok: t=2021-08-26T17:33:42+0000 lvl=info msg=end pg=/api/tunnels id=87cf270d07c2cb3e status=201 dur=83.552823ms\n",
            "2021-08-26 17:33:42.689 INFO    pyngrok.process.ngrok: t=2021-08-26T17:33:42+0000 lvl=info msg=start pg=\"/api/tunnels/http-80-2780f6aa-02b4-4130-a456-3b947e0863fb (http)\" id=9cc2fa4c9720ca9d\n"
          ],
          "name": "stderr"
        },
        {
          "output_type": "execute_result",
          "data": {
            "text/plain": [
              "<NgrokTunnel: \"http://6913-34-69-37-2.ngrok.io\" -> \"http://localhost:80\">"
            ]
          },
          "metadata": {},
          "execution_count": 30
        },
        {
          "output_type": "stream",
          "text": [
            "2021-08-26 17:33:42.692 INFO    pyngrok.process.ngrok: t=2021-08-26T17:33:42+0000 lvl=info msg=end pg=\"/api/tunnels/http-80-2780f6aa-02b4-4130-a456-3b947e0863fb (http)\" id=9cc2fa4c9720ca9d status=200 dur=134.115µs\n"
          ],
          "name": "stderr"
        }
      ]
    },
    {
      "cell_type": "markdown",
      "metadata": {
        "id": "grqMntMFjYoN"
      },
      "source": [
        "A public URL (https://*******.ngrok.io ) will be created, and your app will be running on it."
      ]
    },
    {
      "cell_type": "markdown",
      "metadata": {
        "id": "C715RAmft7sV"
      },
      "source": [
        "# Terminate the App"
      ]
    },
    {
      "cell_type": "code",
      "metadata": {
        "id": "9Ju57PAvuByn",
        "colab": {
          "base_uri": "https://localhost:8080/"
        },
        "outputId": "730b92c8-526e-4a26-a60d-de01002829b8"
      },
      "source": [
        "# !ps -eaf | grep streamlit\n",
        "!pgrep streamlit"
      ],
      "execution_count": 34,
      "outputs": [
        {
          "output_type": "stream",
          "text": [
            "237\n",
            "283\n"
          ],
          "name": "stdout"
        }
      ]
    },
    {
      "cell_type": "code",
      "metadata": {
        "id": "YPuiMhXluIyT"
      },
      "source": [
        "# Kill the processes\n",
        "# ! kill <id>"
      ],
      "execution_count": 32,
      "outputs": []
    },
    {
      "cell_type": "code",
      "metadata": {
        "id": "3xLh7TKuuPu9",
        "colab": {
          "base_uri": "https://localhost:8080/"
        },
        "outputId": "49d944f3-5758-4ac3-890e-75645c83f0d5"
      },
      "source": [
        "# Disconnect ngrok\n",
        "ngrok.kill()"
      ],
      "execution_count": 35,
      "outputs": [
        {
          "output_type": "stream",
          "text": [
            "2021-08-26 17:35:08.649 INFO    pyngrok.process: Killing ngrok process: 287\n"
          ],
          "name": "stderr"
        }
      ]
    }
  ]
}